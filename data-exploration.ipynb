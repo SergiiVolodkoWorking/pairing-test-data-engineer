{
 "nbformat": 4,
 "nbformat_minor": 2,
 "metadata": {
  "language_info": {
   "name": "python",
   "codemirror_mode": {
    "name": "ipython",
    "version": 3
   },
   "version": "3.7.5"
  },
  "orig_nbformat": 2,
  "file_extension": ".py",
  "mimetype": "text/x-python",
  "name": "python",
  "npconvert_exporter": "python",
  "pygments_lexer": "ipython3",
  "version": 3
 },
 "cells": [
  {
   "cell_type": "code",
   "execution_count": 1,
   "metadata": {},
   "outputs": [],
   "source": [
    "# Read what's in data\n",
    "import pandas"
   ]
  },
  {
   "cell_type": "code",
   "execution_count": 3,
   "metadata": {},
   "outputs": [
    {
     "data": {
      "text/html": "<div>\n<style scoped>\n    .dataframe tbody tr th:only-of-type {\n        vertical-align: middle;\n    }\n\n    .dataframe tbody tr th {\n        vertical-align: top;\n    }\n\n    .dataframe thead th {\n        text-align: right;\n    }\n</style>\n<table border=\"1\" class=\"dataframe\">\n  <thead>\n    <tr style=\"text-align: right;\">\n      <th></th>\n      <th>IATA_CODE</th>\n      <th>AIRLINE</th>\n    </tr>\n  </thead>\n  <tbody>\n    <tr>\n      <th>0</th>\n      <td>UA</td>\n      <td>United Air Lines Inc.</td>\n    </tr>\n    <tr>\n      <th>1</th>\n      <td>AA</td>\n      <td>American Airlines Inc.</td>\n    </tr>\n    <tr>\n      <th>2</th>\n      <td>US</td>\n      <td>US Airways Inc.</td>\n    </tr>\n    <tr>\n      <th>3</th>\n      <td>F9</td>\n      <td>Frontier Airlines Inc.</td>\n    </tr>\n    <tr>\n      <th>4</th>\n      <td>B6</td>\n      <td>JetBlue Airways</td>\n    </tr>\n  </tbody>\n</table>\n</div>",
      "text/plain": "  IATA_CODE                 AIRLINE\n0        UA   United Air Lines Inc.\n1        AA  American Airlines Inc.\n2        US         US Airways Inc.\n3        F9  Frontier Airlines Inc.\n4        B6         JetBlue Airways"
     },
     "execution_count": 3,
     "metadata": {},
     "output_type": "execute_result"
    }
   ],
   "source": [
    "airlines_df = pandas.read_csv('data/airlines.csv')\n",
    "\n",
    "airlines_df.head()"
   ]
  },
  {
   "cell_type": "code",
   "execution_count": 4,
   "metadata": {},
   "outputs": [
    {
     "data": {
      "text/html": "<div>\n<style scoped>\n    .dataframe tbody tr th:only-of-type {\n        vertical-align: middle;\n    }\n\n    .dataframe tbody tr th {\n        vertical-align: top;\n    }\n\n    .dataframe thead th {\n        text-align: right;\n    }\n</style>\n<table border=\"1\" class=\"dataframe\">\n  <thead>\n    <tr style=\"text-align: right;\">\n      <th></th>\n      <th>IATA_CODE</th>\n      <th>AIRPORT</th>\n      <th>CITY</th>\n      <th>STATE</th>\n      <th>COUNTRY</th>\n      <th>LATITUDE</th>\n      <th>LONGITUDE</th>\n    </tr>\n  </thead>\n  <tbody>\n    <tr>\n      <th>0</th>\n      <td>ABE</td>\n      <td>Lehigh Valley International Airport</td>\n      <td>Allentown</td>\n      <td>PA</td>\n      <td>USA</td>\n      <td>40.65236</td>\n      <td>-75.44040</td>\n    </tr>\n    <tr>\n      <th>1</th>\n      <td>ABI</td>\n      <td>Abilene Regional Airport</td>\n      <td>Abilene</td>\n      <td>TX</td>\n      <td>USA</td>\n      <td>32.41132</td>\n      <td>-99.68190</td>\n    </tr>\n    <tr>\n      <th>2</th>\n      <td>ABQ</td>\n      <td>Albuquerque International Sunport</td>\n      <td>Albuquerque</td>\n      <td>NM</td>\n      <td>USA</td>\n      <td>35.04022</td>\n      <td>-106.60919</td>\n    </tr>\n    <tr>\n      <th>3</th>\n      <td>ABR</td>\n      <td>Aberdeen Regional Airport</td>\n      <td>Aberdeen</td>\n      <td>SD</td>\n      <td>USA</td>\n      <td>45.44906</td>\n      <td>-98.42183</td>\n    </tr>\n    <tr>\n      <th>4</th>\n      <td>ABY</td>\n      <td>Southwest Georgia Regional Airport</td>\n      <td>Albany</td>\n      <td>GA</td>\n      <td>USA</td>\n      <td>31.53552</td>\n      <td>-84.19447</td>\n    </tr>\n  </tbody>\n</table>\n</div>",
      "text/plain": "  IATA_CODE                              AIRPORT         CITY STATE COUNTRY  \\\n0       ABE  Lehigh Valley International Airport    Allentown    PA     USA   \n1       ABI             Abilene Regional Airport      Abilene    TX     USA   \n2       ABQ    Albuquerque International Sunport  Albuquerque    NM     USA   \n3       ABR            Aberdeen Regional Airport     Aberdeen    SD     USA   \n4       ABY   Southwest Georgia Regional Airport       Albany    GA     USA   \n\n   LATITUDE  LONGITUDE  \n0  40.65236  -75.44040  \n1  32.41132  -99.68190  \n2  35.04022 -106.60919  \n3  45.44906  -98.42183  \n4  31.53552  -84.19447  "
     },
     "execution_count": 4,
     "metadata": {},
     "output_type": "execute_result"
    }
   ],
   "source": [
    "airports_df = pandas.read_csv('data/airports.csv')\n",
    "\n",
    "airports_df.head()"
   ]
  },
  {
   "cell_type": "code",
   "execution_count": 5,
   "metadata": {},
   "outputs": [
    {
     "data": {
      "text/html": "<div>\n<style scoped>\n    .dataframe tbody tr th:only-of-type {\n        vertical-align: middle;\n    }\n\n    .dataframe tbody tr th {\n        vertical-align: top;\n    }\n\n    .dataframe thead th {\n        text-align: right;\n    }\n</style>\n<table border=\"1\" class=\"dataframe\">\n  <thead>\n    <tr style=\"text-align: right;\">\n      <th></th>\n      <th>year</th>\n      <th>month</th>\n      <th>day</th>\n      <th>dep_time</th>\n      <th>dep_delay</th>\n      <th>arr_time</th>\n      <th>arr_delay</th>\n      <th>carrier</th>\n      <th>tailnum</th>\n      <th>flight</th>\n      <th>origin</th>\n      <th>dest</th>\n      <th>air_time</th>\n      <th>distance</th>\n      <th>hour</th>\n      <th>minute</th>\n    </tr>\n  </thead>\n  <tbody>\n    <tr>\n      <th>0</th>\n      <td>2013</td>\n      <td>1</td>\n      <td>1</td>\n      <td>517.0</td>\n      <td>2.0</td>\n      <td>830.0</td>\n      <td>11.0</td>\n      <td>UA</td>\n      <td>N14228</td>\n      <td>1545</td>\n      <td>EWR</td>\n      <td>IAH</td>\n      <td>227.0</td>\n      <td>1400</td>\n      <td>5.0</td>\n      <td>17.0</td>\n    </tr>\n    <tr>\n      <th>1</th>\n      <td>2013</td>\n      <td>1</td>\n      <td>1</td>\n      <td>533.0</td>\n      <td>4.0</td>\n      <td>850.0</td>\n      <td>20.0</td>\n      <td>UA</td>\n      <td>N24211</td>\n      <td>1714</td>\n      <td>LGA</td>\n      <td>IAH</td>\n      <td>227.0</td>\n      <td>1416</td>\n      <td>5.0</td>\n      <td>33.0</td>\n    </tr>\n    <tr>\n      <th>2</th>\n      <td>2013</td>\n      <td>1</td>\n      <td>1</td>\n      <td>542.0</td>\n      <td>2.0</td>\n      <td>923.0</td>\n      <td>33.0</td>\n      <td>AA</td>\n      <td>N619AA</td>\n      <td>1141</td>\n      <td>JFK</td>\n      <td>MIA</td>\n      <td>160.0</td>\n      <td>1089</td>\n      <td>5.0</td>\n      <td>42.0</td>\n    </tr>\n    <tr>\n      <th>3</th>\n      <td>2013</td>\n      <td>1</td>\n      <td>1</td>\n      <td>544.0</td>\n      <td>-1.0</td>\n      <td>1004.0</td>\n      <td>-18.0</td>\n      <td>B6</td>\n      <td>N804JB</td>\n      <td>725</td>\n      <td>JFK</td>\n      <td>BQN</td>\n      <td>183.0</td>\n      <td>1576</td>\n      <td>5.0</td>\n      <td>44.0</td>\n    </tr>\n    <tr>\n      <th>4</th>\n      <td>2013</td>\n      <td>1</td>\n      <td>1</td>\n      <td>554.0</td>\n      <td>-6.0</td>\n      <td>812.0</td>\n      <td>-25.0</td>\n      <td>DL</td>\n      <td>N668DN</td>\n      <td>461</td>\n      <td>LGA</td>\n      <td>ATL</td>\n      <td>116.0</td>\n      <td>762</td>\n      <td>5.0</td>\n      <td>54.0</td>\n    </tr>\n  </tbody>\n</table>\n</div>",
      "text/plain": "   year  month  day  dep_time  dep_delay  arr_time  arr_delay carrier tailnum  \\\n0  2013      1    1     517.0        2.0     830.0       11.0      UA  N14228   \n1  2013      1    1     533.0        4.0     850.0       20.0      UA  N24211   \n2  2013      1    1     542.0        2.0     923.0       33.0      AA  N619AA   \n3  2013      1    1     544.0       -1.0    1004.0      -18.0      B6  N804JB   \n4  2013      1    1     554.0       -6.0     812.0      -25.0      DL  N668DN   \n\n   flight origin dest  air_time  distance  hour  minute  \n0    1545    EWR  IAH     227.0      1400   5.0    17.0  \n1    1714    LGA  IAH     227.0      1416   5.0    33.0  \n2    1141    JFK  MIA     160.0      1089   5.0    42.0  \n3     725    JFK  BQN     183.0      1576   5.0    44.0  \n4     461    LGA  ATL     116.0       762   5.0    54.0  "
     },
     "execution_count": 5,
     "metadata": {},
     "output_type": "execute_result"
    }
   ],
   "source": [
    "flights_df = pandas.read_csv('data/flights.csv')\n",
    "\n",
    "flights_df.head()"
   ]
  },
  {
   "cell_type": "code",
   "execution_count": 6,
   "metadata": {},
   "outputs": [
    {
     "data": {
      "text/html": "<div>\n<style scoped>\n    .dataframe tbody tr th:only-of-type {\n        vertical-align: middle;\n    }\n\n    .dataframe tbody tr th {\n        vertical-align: top;\n    }\n\n    .dataframe thead th {\n        text-align: right;\n    }\n</style>\n<table border=\"1\" class=\"dataframe\">\n  <thead>\n    <tr style=\"text-align: right;\">\n      <th></th>\n      <th>tailnum</th>\n      <th>year</th>\n      <th>type</th>\n      <th>manufacturer</th>\n      <th>model</th>\n      <th>engines</th>\n      <th>seats</th>\n      <th>speed</th>\n      <th>engine</th>\n    </tr>\n  </thead>\n  <tbody>\n    <tr>\n      <th>0</th>\n      <td>N10156</td>\n      <td>2004.0</td>\n      <td>Fixed wing multi engine</td>\n      <td>EMBRAER</td>\n      <td>EMB-145XR</td>\n      <td>2</td>\n      <td>55</td>\n      <td>NaN</td>\n      <td>Turbo-fan</td>\n    </tr>\n    <tr>\n      <th>1</th>\n      <td>N102UW</td>\n      <td>1998.0</td>\n      <td>Fixed wing multi engine</td>\n      <td>AIRBUS INDUSTRIE</td>\n      <td>A320-214</td>\n      <td>2</td>\n      <td>182</td>\n      <td>NaN</td>\n      <td>Turbo-fan</td>\n    </tr>\n    <tr>\n      <th>2</th>\n      <td>N103US</td>\n      <td>1999.0</td>\n      <td>Fixed wing multi engine</td>\n      <td>AIRBUS INDUSTRIE</td>\n      <td>A320-214</td>\n      <td>2</td>\n      <td>182</td>\n      <td>NaN</td>\n      <td>Turbo-fan</td>\n    </tr>\n    <tr>\n      <th>3</th>\n      <td>N104UW</td>\n      <td>1999.0</td>\n      <td>Fixed wing multi engine</td>\n      <td>AIRBUS INDUSTRIE</td>\n      <td>A320-214</td>\n      <td>2</td>\n      <td>182</td>\n      <td>NaN</td>\n      <td>Turbo-fan</td>\n    </tr>\n    <tr>\n      <th>4</th>\n      <td>N10575</td>\n      <td>2002.0</td>\n      <td>Fixed wing multi engine</td>\n      <td>EMBRAER</td>\n      <td>EMB-145LR</td>\n      <td>2</td>\n      <td>55</td>\n      <td>NaN</td>\n      <td>Turbo-fan</td>\n    </tr>\n  </tbody>\n</table>\n</div>",
      "text/plain": "  tailnum    year                     type      manufacturer      model  \\\n0  N10156  2004.0  Fixed wing multi engine           EMBRAER  EMB-145XR   \n1  N102UW  1998.0  Fixed wing multi engine  AIRBUS INDUSTRIE   A320-214   \n2  N103US  1999.0  Fixed wing multi engine  AIRBUS INDUSTRIE   A320-214   \n3  N104UW  1999.0  Fixed wing multi engine  AIRBUS INDUSTRIE   A320-214   \n4  N10575  2002.0  Fixed wing multi engine           EMBRAER  EMB-145LR   \n\n   engines  seats  speed     engine  \n0        2     55    NaN  Turbo-fan  \n1        2    182    NaN  Turbo-fan  \n2        2    182    NaN  Turbo-fan  \n3        2    182    NaN  Turbo-fan  \n4        2     55    NaN  Turbo-fan  "
     },
     "execution_count": 6,
     "metadata": {},
     "output_type": "execute_result"
    }
   ],
   "source": [
    "planes_df = pandas.read_csv('data/planes.csv')\n",
    "\n",
    "planes_df.head()"
   ]
  },
  {
   "cell_type": "code",
   "execution_count": 7,
   "metadata": {},
   "outputs": [
    {
     "data": {
      "text/html": "<div>\n<style scoped>\n    .dataframe tbody tr th:only-of-type {\n        vertical-align: middle;\n    }\n\n    .dataframe tbody tr th {\n        vertical-align: top;\n    }\n\n    .dataframe thead th {\n        text-align: right;\n    }\n</style>\n<table border=\"1\" class=\"dataframe\">\n  <thead>\n    <tr style=\"text-align: right;\">\n      <th></th>\n      <th>origin</th>\n      <th>year</th>\n      <th>month</th>\n      <th>day</th>\n      <th>hour</th>\n      <th>temp</th>\n      <th>dewp</th>\n      <th>humid</th>\n      <th>wind_dir</th>\n      <th>wind_speed</th>\n      <th>wind_gust</th>\n      <th>precip</th>\n      <th>pressure</th>\n      <th>visib</th>\n      <th>time_hour</th>\n    </tr>\n  </thead>\n  <tbody>\n    <tr>\n      <th>0</th>\n      <td>EWR</td>\n      <td>2013</td>\n      <td>1</td>\n      <td>1</td>\n      <td>1</td>\n      <td>39.02</td>\n      <td>26.06</td>\n      <td>59.37</td>\n      <td>270.0</td>\n      <td>10.35702</td>\n      <td>NaN</td>\n      <td>0.0</td>\n      <td>1012.0</td>\n      <td>10.0</td>\n      <td>2013-01-01T06:00:00Z</td>\n    </tr>\n    <tr>\n      <th>1</th>\n      <td>EWR</td>\n      <td>2013</td>\n      <td>1</td>\n      <td>1</td>\n      <td>2</td>\n      <td>39.02</td>\n      <td>26.96</td>\n      <td>61.63</td>\n      <td>250.0</td>\n      <td>8.05546</td>\n      <td>NaN</td>\n      <td>0.0</td>\n      <td>1012.3</td>\n      <td>10.0</td>\n      <td>2013-01-01T07:00:00Z</td>\n    </tr>\n    <tr>\n      <th>2</th>\n      <td>EWR</td>\n      <td>2013</td>\n      <td>1</td>\n      <td>1</td>\n      <td>3</td>\n      <td>39.02</td>\n      <td>28.04</td>\n      <td>64.43</td>\n      <td>240.0</td>\n      <td>11.50780</td>\n      <td>NaN</td>\n      <td>0.0</td>\n      <td>1012.5</td>\n      <td>10.0</td>\n      <td>2013-01-01T08:00:00Z</td>\n    </tr>\n    <tr>\n      <th>3</th>\n      <td>EWR</td>\n      <td>2013</td>\n      <td>1</td>\n      <td>1</td>\n      <td>4</td>\n      <td>39.92</td>\n      <td>28.04</td>\n      <td>62.21</td>\n      <td>250.0</td>\n      <td>12.65858</td>\n      <td>NaN</td>\n      <td>0.0</td>\n      <td>1012.2</td>\n      <td>10.0</td>\n      <td>2013-01-01T09:00:00Z</td>\n    </tr>\n    <tr>\n      <th>4</th>\n      <td>EWR</td>\n      <td>2013</td>\n      <td>1</td>\n      <td>1</td>\n      <td>5</td>\n      <td>39.02</td>\n      <td>28.04</td>\n      <td>64.43</td>\n      <td>260.0</td>\n      <td>12.65858</td>\n      <td>NaN</td>\n      <td>0.0</td>\n      <td>1011.9</td>\n      <td>10.0</td>\n      <td>2013-01-01T10:00:00Z</td>\n    </tr>\n  </tbody>\n</table>\n</div>",
      "text/plain": "  origin  year  month  day  hour   temp   dewp  humid  wind_dir  wind_speed  \\\n0    EWR  2013      1    1     1  39.02  26.06  59.37     270.0    10.35702   \n1    EWR  2013      1    1     2  39.02  26.96  61.63     250.0     8.05546   \n2    EWR  2013      1    1     3  39.02  28.04  64.43     240.0    11.50780   \n3    EWR  2013      1    1     4  39.92  28.04  62.21     250.0    12.65858   \n4    EWR  2013      1    1     5  39.02  28.04  64.43     260.0    12.65858   \n\n   wind_gust  precip  pressure  visib             time_hour  \n0        NaN     0.0    1012.0   10.0  2013-01-01T06:00:00Z  \n1        NaN     0.0    1012.3   10.0  2013-01-01T07:00:00Z  \n2        NaN     0.0    1012.5   10.0  2013-01-01T08:00:00Z  \n3        NaN     0.0    1012.2   10.0  2013-01-01T09:00:00Z  \n4        NaN     0.0    1011.9   10.0  2013-01-01T10:00:00Z  "
     },
     "execution_count": 7,
     "metadata": {},
     "output_type": "execute_result"
    }
   ],
   "source": [
    "weather_df = pandas.read_csv('data/weather.csv')\n",
    "\n",
    "weather_df.head()"
   ]
  },
  {
   "cell_type": "code",
   "execution_count": null,
   "metadata": {},
   "outputs": [],
   "source": []
  }
 ]
}